{
  "nbformat": 4,
  "nbformat_minor": 0,
  "metadata": {
    "colab": {
      "provenance": [],
      "gpuType": "T4",
      "authorship_tag": "ABX9TyPjhtlbuygssYih1AMNo/08",
      "include_colab_link": true
    },
    "kernelspec": {
      "name": "python3",
      "display_name": "Python 3"
    },
    "language_info": {
      "name": "python"
    },
    "accelerator": "GPU"
  },
  "cells": [
    {
      "cell_type": "markdown",
      "metadata": {
        "id": "view-in-github",
        "colab_type": "text"
      },
      "source": [
        "<a href=\"https://colab.research.google.com/github/NotAhmadRaza/PyTorch/blob/main/01_Pytorch_Fundaments.ipynb\" target=\"_parent\"><img src=\"https://colab.research.google.com/assets/colab-badge.svg\" alt=\"Open In Colab\"/></a>"
      ]
    },
    {
      "cell_type": "markdown",
      "source": [
        "## Manipulating Tensors(Tensors Operations)\n",
        "Tensor Operation includes:                                              \n",
        "\n",
        "* Addition\n",
        "\n",
        "* Subtraction\n",
        "\n",
        "* Multiplication(Element)\n",
        "\n",
        "* Divison\n",
        "\n",
        "* Matrix Multiplication"
      ],
      "metadata": {
        "id": "tb3WkffyVXUq"
      }
    },
    {
      "cell_type": "code",
      "source": [
        "#Create a tensor\n",
        "tensor = torch.tensor([1,4,5])\n",
        "tensor\n",
        "\n"
      ],
      "metadata": {
        "colab": {
          "base_uri": "https://localhost:8080/"
        },
        "id": "iORWlOrVXUxJ",
        "outputId": "52189345-1258-447d-a9d1-5462cc69d6ba"
      },
      "execution_count": 7,
      "outputs": [
        {
          "output_type": "execute_result",
          "data": {
            "text/plain": [
              "tensor([1, 4, 5])"
            ]
          },
          "metadata": {},
          "execution_count": 7
        }
      ]
    },
    {
      "cell_type": "code",
      "source": [
        "tensor +10"
      ],
      "metadata": {
        "colab": {
          "base_uri": "https://localhost:8080/"
        },
        "id": "qKbvsM67YLAI",
        "outputId": "fb2a6515-6f27-4a78-c62d-87f7708ec9eb"
      },
      "execution_count": 8,
      "outputs": [
        {
          "output_type": "execute_result",
          "data": {
            "text/plain": [
              "tensor([11, 14, 15])"
            ]
          },
          "metadata": {},
          "execution_count": 8
        }
      ]
    },
    {
      "cell_type": "code",
      "source": [
        "tensor -10"
      ],
      "metadata": {
        "colab": {
          "base_uri": "https://localhost:8080/"
        },
        "id": "4MrYnl2YYPU4",
        "outputId": "e264a3d1-0087-4b34-d390-e2650f8bc1b5"
      },
      "execution_count": 9,
      "outputs": [
        {
          "output_type": "execute_result",
          "data": {
            "text/plain": [
              "tensor([-9, -6, -5])"
            ]
          },
          "metadata": {},
          "execution_count": 9
        }
      ]
    },
    {
      "cell_type": "code",
      "source": [
        "tensor * 5"
      ],
      "metadata": {
        "colab": {
          "base_uri": "https://localhost:8080/"
        },
        "id": "5E--iEQiYWXH",
        "outputId": "ab3a3c52-36cb-4bf6-d07d-c263f5a50583"
      },
      "execution_count": 10,
      "outputs": [
        {
          "output_type": "execute_result",
          "data": {
            "text/plain": [
              "tensor([ 5, 20, 25])"
            ]
          },
          "metadata": {},
          "execution_count": 10
        }
      ]
    },
    {
      "cell_type": "code",
      "source": [
        "tensor / 2"
      ],
      "metadata": {
        "colab": {
          "base_uri": "https://localhost:8080/"
        },
        "id": "GfY86HGxYbNN",
        "outputId": "c1d885f0-f6c8-4050-9c48-b125b4e71367"
      },
      "execution_count": 11,
      "outputs": [
        {
          "output_type": "execute_result",
          "data": {
            "text/plain": [
              "tensor([0.5000, 2.0000, 2.5000])"
            ]
          },
          "metadata": {},
          "execution_count": 11
        }
      ]
    },
    {
      "cell_type": "markdown",
      "source": [
        "### Build In"
      ],
      "metadata": {
        "id": "oRYUZfz9YgdB"
      }
    },
    {
      "cell_type": "code",
      "source": [
        "torch.add(tensor,2)"
      ],
      "metadata": {
        "colab": {
          "base_uri": "https://localhost:8080/"
        },
        "id": "TxLute9FYukl",
        "outputId": "ce15d43f-9499-419a-bb04-f51bb6a1426f"
      },
      "execution_count": 12,
      "outputs": [
        {
          "output_type": "execute_result",
          "data": {
            "text/plain": [
              "tensor([3, 6, 7])"
            ]
          },
          "metadata": {},
          "execution_count": 12
        }
      ]
    },
    {
      "cell_type": "code",
      "source": [
        "torch.sub(tensor, 1)"
      ],
      "metadata": {
        "colab": {
          "base_uri": "https://localhost:8080/"
        },
        "id": "ti7YWsMgY-m4",
        "outputId": "bb528919-06b2-4b65-da92-9b5e659d3b7a"
      },
      "execution_count": 13,
      "outputs": [
        {
          "output_type": "execute_result",
          "data": {
            "text/plain": [
              "tensor([0, 3, 4])"
            ]
          },
          "metadata": {},
          "execution_count": 13
        }
      ]
    },
    {
      "cell_type": "code",
      "source": [
        "torch.mul(tensor,10)"
      ],
      "metadata": {
        "colab": {
          "base_uri": "https://localhost:8080/"
        },
        "id": "YBQb0cl0ZG-z",
        "outputId": "bce7a877-014d-417e-ad9f-5ac80e2186dc"
      },
      "execution_count": 14,
      "outputs": [
        {
          "output_type": "execute_result",
          "data": {
            "text/plain": [
              "tensor([10, 40, 50])"
            ]
          },
          "metadata": {},
          "execution_count": 14
        }
      ]
    },
    {
      "cell_type": "code",
      "source": [
        "torch.div(tensor,15)"
      ],
      "metadata": {
        "colab": {
          "base_uri": "https://localhost:8080/"
        },
        "id": "-PhMKcJoZMAO",
        "outputId": "6b146321-b230-48c0-9309-0da6269e0289"
      },
      "execution_count": 15,
      "outputs": [
        {
          "output_type": "execute_result",
          "data": {
            "text/plain": [
              "tensor([0.0667, 0.2667, 0.3333])"
            ]
          },
          "metadata": {},
          "execution_count": 15
        }
      ]
    },
    {
      "cell_type": "markdown",
      "source": [
        "## Matrix Multiplication"
      ],
      "metadata": {
        "id": "Du1dfURJZRTG"
      }
    },
    {
      "cell_type": "markdown",
      "source": [
        "Two Main Ways of performing multiplication in Neural Networks and deep learning:\n",
        "\n",
        "* **Element Wise Multiplication**\n",
        "* **Matrix Multiplication (dot product)**"
      ],
      "metadata": {
        "id": "DAKL1ZWraQRs"
      }
    },
    {
      "cell_type": "code",
      "source": [
        "# ELEMENT WISE\n",
        "import torch\n",
        "tensor = torch.tensor([1,5,3])\n",
        "tensor *5"
      ],
      "metadata": {
        "colab": {
          "base_uri": "https://localhost:8080/"
        },
        "id": "ClBf5Xp8bi7v",
        "outputId": "b1bf9288-259e-4a05-e21c-e3546b8efefb"
      },
      "execution_count": 20,
      "outputs": [
        {
          "output_type": "execute_result",
          "data": {
            "text/plain": [
              "tensor([ 5, 25, 15])"
            ]
          },
          "metadata": {},
          "execution_count": 20
        }
      ]
    },
    {
      "cell_type": "code",
      "source": [
        "tensor * tensor"
      ],
      "metadata": {
        "colab": {
          "base_uri": "https://localhost:8080/"
        },
        "id": "tI7DmXbVcIl3",
        "outputId": "9ffd353a-39ff-445e-fc9b-040bd3f8a688"
      },
      "execution_count": 21,
      "outputs": [
        {
          "output_type": "execute_result",
          "data": {
            "text/plain": [
              "tensor([ 1, 25,  9])"
            ]
          },
          "metadata": {},
          "execution_count": 21
        }
      ]
    },
    {
      "cell_type": "code",
      "source": [
        "# Dot Product\n",
        "torch.matmul(tensor,tensor)"
      ],
      "metadata": {
        "colab": {
          "base_uri": "https://localhost:8080/"
        },
        "id": "ScDmfDrkcRz8",
        "outputId": "d6332622-a0e0-47d3-b720-de3389902f7e"
      },
      "execution_count": 23,
      "outputs": [
        {
          "output_type": "execute_result",
          "data": {
            "text/plain": [
              "tensor(35)"
            ]
          },
          "metadata": {},
          "execution_count": 23
        }
      ]
    },
    {
      "cell_type": "code",
      "source": [
        "import torch\n",
        "#Rand Matrix\n",
        "torch.matmul(torch.rand(3,2),torch.rand(2,3))"
      ],
      "metadata": {
        "colab": {
          "base_uri": "https://localhost:8080/"
        },
        "id": "kr-f8zNlR_d8",
        "outputId": "87340470-9822-44ff-9f60-c090c2641c23"
      },
      "execution_count": 2,
      "outputs": [
        {
          "output_type": "execute_result",
          "data": {
            "text/plain": [
              "tensor([[0.0908, 0.6705, 0.8120],\n",
              "        [0.1497, 0.8050, 0.9068],\n",
              "        [0.1722, 0.6694, 0.6741]])"
            ]
          },
          "metadata": {},
          "execution_count": 2
        }
      ]
    },
    {
      "cell_type": "code",
      "source": [
        "#Transpose\n",
        "tensor= torch.tensor([[3,2],[4,5],[7,8]])\n",
        "tensor.T"
      ],
      "metadata": {
        "colab": {
          "base_uri": "https://localhost:8080/"
        },
        "id": "zAZGPMHnSctI",
        "outputId": "1f37fc4a-7395-4f8a-c9d6-d6cda38f6a97"
      },
      "execution_count": 7,
      "outputs": [
        {
          "output_type": "execute_result",
          "data": {
            "text/plain": [
              "tensor([[3, 4, 7],\n",
              "        [2, 5, 8]])"
            ]
          },
          "metadata": {},
          "execution_count": 7
        }
      ]
    },
    {
      "cell_type": "markdown",
      "source": [
        "## Create own Matrix"
      ],
      "metadata": {
        "id": "xUQUD10oUU57"
      }
    },
    {
      "cell_type": "markdown",
      "source": [
        "![Capture.PNG](data:image/png;base64,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)"
      ],
      "metadata": {
        "id": "x3Te5IcFWgXp"
      }
    },
    {
      "cell_type": "markdown",
      "source": [
        "![Capture1.PNG](data:image/png;base64,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)"
      ],
      "metadata": {
        "id": "8WYCqGZgWoXV"
      }
    },
    {
      "cell_type": "code",
      "source": [
        "# Matrix A\n",
        "tensor_A = torch.tensor([[3,4,5],[5,3,2]])\n",
        "# Matrix B\n",
        "tensor_B = torch.tensor([[2,5],[4,9],[8,4]])\n",
        "torch.matmul(tensor_A,tensor_B)"
      ],
      "metadata": {
        "colab": {
          "base_uri": "https://localhost:8080/"
        },
        "id": "F5RXRBuLUd4r",
        "outputId": "7d395407-26bf-417d-8939-690d9ad35243"
      },
      "execution_count": 9,
      "outputs": [
        {
          "output_type": "execute_result",
          "data": {
            "text/plain": [
              "tensor([[62, 71],\n",
              "        [38, 60]])"
            ]
          },
          "metadata": {},
          "execution_count": 9
        }
      ]
    },
    {
      "cell_type": "markdown",
      "source": [
        "## Tensor Aggregation\n",
        "Finding the min, max, mean & sum"
      ],
      "metadata": {
        "id": "tcl_w-N3VXeF"
      }
    },
    {
      "cell_type": "code",
      "source": [
        "# For Max\n",
        "print(tensor_A)\n",
        "torch.max(tensor_A)"
      ],
      "metadata": {
        "colab": {
          "base_uri": "https://localhost:8080/"
        },
        "id": "NaRXpCjqX6Rx",
        "outputId": "121fb912-5fd4-4448-8346-37d71de8ce19"
      },
      "execution_count": 13,
      "outputs": [
        {
          "output_type": "stream",
          "name": "stdout",
          "text": [
            "tensor([[3, 4, 5],\n",
            "        [5, 3, 2]])\n"
          ]
        },
        {
          "output_type": "execute_result",
          "data": {
            "text/plain": [
              "tensor(5)"
            ]
          },
          "metadata": {},
          "execution_count": 13
        }
      ]
    },
    {
      "cell_type": "code",
      "source": [
        "# For Min\n",
        "print(tensor_B)\n",
        "torch.min(tensor_B)"
      ],
      "metadata": {
        "colab": {
          "base_uri": "https://localhost:8080/"
        },
        "id": "z74070CwYE6n",
        "outputId": "a5ac3c53-2aa0-4003-9a18-abe92a82dc1f"
      },
      "execution_count": 15,
      "outputs": [
        {
          "output_type": "stream",
          "name": "stdout",
          "text": [
            "tensor([[2, 5],\n",
            "        [4, 9],\n",
            "        [8, 4]])\n"
          ]
        },
        {
          "output_type": "execute_result",
          "data": {
            "text/plain": [
              "tensor(2)"
            ]
          },
          "metadata": {},
          "execution_count": 15
        }
      ]
    },
    {
      "cell_type": "code",
      "source": [
        "# For Sum\n",
        "print(tensor_A)\n",
        "torch.sum(tensor_A)"
      ],
      "metadata": {
        "colab": {
          "base_uri": "https://localhost:8080/"
        },
        "id": "h0WfSWA8YY7X",
        "outputId": "e645f3bd-43c4-4287-be60-df7619085698"
      },
      "execution_count": 16,
      "outputs": [
        {
          "output_type": "stream",
          "name": "stdout",
          "text": [
            "tensor([[3, 4, 5],\n",
            "        [5, 3, 2]])\n"
          ]
        },
        {
          "output_type": "execute_result",
          "data": {
            "text/plain": [
              "tensor(22)"
            ]
          },
          "metadata": {},
          "execution_count": 16
        }
      ]
    },
    {
      "cell_type": "code",
      "source": [
        "# For Mean\n",
        "\n",
        "print (tensor_A)\n",
        "torch.mean(tensor_A.type(torch.float32))"
      ],
      "metadata": {
        "colab": {
          "base_uri": "https://localhost:8080/"
        },
        "id": "REyrL2DRYlKC",
        "outputId": "3ecb0670-9045-46e5-b1e5-95b8593f2a5d"
      },
      "execution_count": 18,
      "outputs": [
        {
          "output_type": "stream",
          "name": "stdout",
          "text": [
            "tensor([[3, 4, 5],\n",
            "        [5, 3, 2]])\n"
          ]
        },
        {
          "output_type": "execute_result",
          "data": {
            "text/plain": [
              "tensor(3.6667)"
            ]
          },
          "metadata": {},
          "execution_count": 18
        }
      ]
    },
    {
      "cell_type": "markdown",
      "source": [
        "## Reshaping, stacking, squeezing and unsqueezing"
      ],
      "metadata": {
        "id": "upRprtoyZC7X"
      }
    },
    {
      "cell_type": "code",
      "source": [
        "# Create a tensor\n",
        "import torch\n",
        "x = torch.arange(1., 8.)\n",
        "x, x.shape"
      ],
      "metadata": {
        "colab": {
          "base_uri": "https://localhost:8080/"
        },
        "id": "LxaV25wKdC6Y",
        "outputId": "6dfeb9f2-3dd9-480f-fc33-82512c650cfb"
      },
      "execution_count": 19,
      "outputs": [
        {
          "output_type": "execute_result",
          "data": {
            "text/plain": [
              "(tensor([1., 2., 3., 4., 5., 6., 7.]), torch.Size([7]))"
            ]
          },
          "metadata": {},
          "execution_count": 19
        }
      ]
    },
    {
      "cell_type": "code",
      "source": [
        "# Add an extra dimension\n",
        "x_reshaped = x.reshape(1, 7)\n",
        "x_reshaped, x_reshaped.shape"
      ],
      "metadata": {
        "colab": {
          "base_uri": "https://localhost:8080/"
        },
        "id": "K7FHuWjHdKv-",
        "outputId": "caa16f05-a9d7-4df2-86af-12ae4e2d32fe"
      },
      "execution_count": 20,
      "outputs": [
        {
          "output_type": "execute_result",
          "data": {
            "text/plain": [
              "(tensor([[1., 2., 3., 4., 5., 6., 7.]]), torch.Size([1, 7]))"
            ]
          },
          "metadata": {},
          "execution_count": 20
        }
      ]
    },
    {
      "cell_type": "code",
      "source": [
        "# Change view (keeps same data as original but changes view)\n",
        "z = x.view(1, 7)\n",
        "z, z.shape"
      ],
      "metadata": {
        "colab": {
          "base_uri": "https://localhost:8080/"
        },
        "id": "PMqpJ9B0dOJl",
        "outputId": "13d32e1d-4049-4ce2-b1d9-ed84a5eac31c"
      },
      "execution_count": 21,
      "outputs": [
        {
          "output_type": "execute_result",
          "data": {
            "text/plain": [
              "(tensor([[1., 2., 3., 4., 5., 6., 7.]]), torch.Size([1, 7]))"
            ]
          },
          "metadata": {},
          "execution_count": 21
        }
      ]
    },
    {
      "cell_type": "code",
      "source": [
        "# Changing z changes x\n",
        "z[:, 0] = 5\n",
        "z, x"
      ],
      "metadata": {
        "colab": {
          "base_uri": "https://localhost:8080/"
        },
        "id": "Jl7QR7zVdVYC",
        "outputId": "66541263-ce2d-4e0f-b082-d710da680ffa"
      },
      "execution_count": 22,
      "outputs": [
        {
          "output_type": "execute_result",
          "data": {
            "text/plain": [
              "(tensor([[5., 2., 3., 4., 5., 6., 7.]]), tensor([5., 2., 3., 4., 5., 6., 7.]))"
            ]
          },
          "metadata": {},
          "execution_count": 22
        }
      ]
    },
    {
      "cell_type": "code",
      "source": [
        "# Stack tensors on top of each other\n",
        "x_stacked = torch.stack([x, x, x, x], dim=0) # try changing dim to dim=1 and see what happens\n",
        "x_stacked"
      ],
      "metadata": {
        "colab": {
          "base_uri": "https://localhost:8080/"
        },
        "id": "Y3yoXNoPdb1i",
        "outputId": "dad5ad26-9df1-40c7-cf36-c047224ea7cd"
      },
      "execution_count": 23,
      "outputs": [
        {
          "output_type": "execute_result",
          "data": {
            "text/plain": [
              "tensor([[5., 2., 3., 4., 5., 6., 7.],\n",
              "        [5., 2., 3., 4., 5., 6., 7.],\n",
              "        [5., 2., 3., 4., 5., 6., 7.],\n",
              "        [5., 2., 3., 4., 5., 6., 7.]])"
            ]
          },
          "metadata": {},
          "execution_count": 23
        }
      ]
    },
    {
      "cell_type": "code",
      "source": [
        "print(f\"Previous tensor: {x_reshaped}\")\n",
        "print(f\"Previous shape: {x_reshaped.shape}\")\n",
        "\n",
        "# Remove extra dimension from x_reshaped\n",
        "x_squeezed = x_reshaped.squeeze()\n",
        "print(f\"\\nNew tensor: {x_squeezed}\")\n",
        "print(f\"New shape: {x_squeezed.shape}\")"
      ],
      "metadata": {
        "colab": {
          "base_uri": "https://localhost:8080/"
        },
        "id": "BDcvgLG2dgS8",
        "outputId": "b8a53282-6cf6-49e6-f481-8fd9e0418aa6"
      },
      "execution_count": 24,
      "outputs": [
        {
          "output_type": "stream",
          "name": "stdout",
          "text": [
            "Previous tensor: tensor([[5., 2., 3., 4., 5., 6., 7.]])\n",
            "Previous shape: torch.Size([1, 7])\n",
            "\n",
            "New tensor: tensor([5., 2., 3., 4., 5., 6., 7.])\n",
            "New shape: torch.Size([7])\n"
          ]
        }
      ]
    },
    {
      "cell_type": "markdown",
      "source": [
        "And to do the reverse of torch.squeeze() you can use torch.unsqueeze() to add a dimension value of 1 at a specific index."
      ],
      "metadata": {
        "id": "INXWKjuVdtbZ"
      }
    },
    {
      "cell_type": "code",
      "source": [
        "print(f\"Previous tensor: {x_squeezed}\")\n",
        "print(f\"Previous shape: {x_squeezed.shape}\")\n",
        "\n",
        "## Add an extra dimension with unsqueeze\n",
        "x_unsqueezed = x_squeezed.unsqueeze(dim=0)\n",
        "print(f\"\\nNew tensor: {x_unsqueezed}\")\n",
        "print(f\"New shape: {x_unsqueezed.shape}\")"
      ],
      "metadata": {
        "colab": {
          "base_uri": "https://localhost:8080/"
        },
        "id": "qWhORF9Odw7K",
        "outputId": "0d7570ca-6566-4e59-9b47-a237196f7685"
      },
      "execution_count": 25,
      "outputs": [
        {
          "output_type": "stream",
          "name": "stdout",
          "text": [
            "Previous tensor: tensor([5., 2., 3., 4., 5., 6., 7.])\n",
            "Previous shape: torch.Size([7])\n",
            "\n",
            "New tensor: tensor([[5., 2., 3., 4., 5., 6., 7.]])\n",
            "New shape: torch.Size([1, 7])\n"
          ]
        }
      ]
    },
    {
      "cell_type": "markdown",
      "source": [
        "You can also rearrange the order of axes values with torch.permute(input, dims), where the input gets turned into a view with new dims."
      ],
      "metadata": {
        "id": "THjfTDaYd6wS"
      }
    },
    {
      "cell_type": "code",
      "source": [
        "# Create tensor with specific shape\n",
        "x_original = torch.rand(size=(224, 224, 3))\n",
        "\n",
        "# Permute the original tensor to rearrange the axis order\n",
        "x_permuted = x_original.permute(2, 0, 1) # shifts axis 0->1, 1->2, 2->0\n",
        "\n",
        "print(f\"Previous shape: {x_original.shape}\")\n",
        "print(f\"New shape: {x_permuted.shape}\")"
      ],
      "metadata": {
        "colab": {
          "base_uri": "https://localhost:8080/"
        },
        "id": "Jj62q71rd-bi",
        "outputId": "08e80794-538b-493d-b952-9280260af02b"
      },
      "execution_count": 26,
      "outputs": [
        {
          "output_type": "stream",
          "name": "stdout",
          "text": [
            "Previous shape: torch.Size([224, 224, 3])\n",
            "New shape: torch.Size([3, 224, 224])\n"
          ]
        }
      ]
    },
    {
      "cell_type": "markdown",
      "source": [
        "## Indexing (selecting data from tensors)"
      ],
      "metadata": {
        "id": "G0f-_wUgeWiD"
      }
    },
    {
      "cell_type": "code",
      "source": [
        "# Create a tensor\n",
        "import torch\n",
        "x = torch.arange(1, 10).reshape(1, 3, 3)\n",
        "x, x.shape"
      ],
      "metadata": {
        "colab": {
          "base_uri": "https://localhost:8080/"
        },
        "id": "gMZpx0ukeY55",
        "outputId": "1e23259c-c1a1-4d8a-a0cc-0937f4a36690"
      },
      "execution_count": 27,
      "outputs": [
        {
          "output_type": "execute_result",
          "data": {
            "text/plain": [
              "(tensor([[[1, 2, 3],\n",
              "          [4, 5, 6],\n",
              "          [7, 8, 9]]]),\n",
              " torch.Size([1, 3, 3]))"
            ]
          },
          "metadata": {},
          "execution_count": 27
        }
      ]
    },
    {
      "cell_type": "code",
      "source": [
        "# Let's index bracket by bracket\n",
        "print(f\"First square bracket:\\n{x[0]}\")\n",
        "print(f\"Second square bracket: {x[0][0]}\")\n",
        "print(f\"Third square bracket: {x[0][0][0]}\")"
      ],
      "metadata": {
        "colab": {
          "base_uri": "https://localhost:8080/"
        },
        "id": "BxHSFuxPedrd",
        "outputId": "e8ec5013-b368-4281-d4d5-9a18ac1c8986"
      },
      "execution_count": 28,
      "outputs": [
        {
          "output_type": "stream",
          "name": "stdout",
          "text": [
            "First square bracket:\n",
            "tensor([[1, 2, 3],\n",
            "        [4, 5, 6],\n",
            "        [7, 8, 9]])\n",
            "Second square bracket: tensor([1, 2, 3])\n",
            "Third square bracket: 1\n"
          ]
        }
      ]
    },
    {
      "cell_type": "code",
      "source": [
        "# Get all values of 0th dimension and the 0 index of 1st dimension\n",
        "x[:, 0]"
      ],
      "metadata": {
        "colab": {
          "base_uri": "https://localhost:8080/"
        },
        "id": "UuwL6GlOex55",
        "outputId": "19ec1c5e-efcd-4b24-a392-2b7a77f9f648"
      },
      "execution_count": 29,
      "outputs": [
        {
          "output_type": "execute_result",
          "data": {
            "text/plain": [
              "tensor([[1, 2, 3]])"
            ]
          },
          "metadata": {},
          "execution_count": 29
        }
      ]
    },
    {
      "cell_type": "code",
      "source": [
        "# Get all values of 0th & 1st dimensions but only index 1 of 2nd dimension\n",
        "x[:, :, 1]"
      ],
      "metadata": {
        "colab": {
          "base_uri": "https://localhost:8080/"
        },
        "id": "Jl9qZmT9e0tK",
        "outputId": "e7c27ecd-b064-42d4-abd6-0de43082c879"
      },
      "execution_count": 30,
      "outputs": [
        {
          "output_type": "execute_result",
          "data": {
            "text/plain": [
              "tensor([[2, 5, 8]])"
            ]
          },
          "metadata": {},
          "execution_count": 30
        }
      ]
    },
    {
      "cell_type": "code",
      "source": [
        "# Get all values of the 0 dimension but only the 1 index value of the 1st and 2nd dimension\n",
        "x[:, 1, 1]"
      ],
      "metadata": {
        "colab": {
          "base_uri": "https://localhost:8080/"
        },
        "id": "jXNLxIPce4tp",
        "outputId": "afe90b92-d7c2-4bda-e120-c13ab12b3e7b"
      },
      "execution_count": 31,
      "outputs": [
        {
          "output_type": "execute_result",
          "data": {
            "text/plain": [
              "tensor([5])"
            ]
          },
          "metadata": {},
          "execution_count": 31
        }
      ]
    },
    {
      "cell_type": "code",
      "source": [
        "# Get index 0 of 0th and 1st dimension and all values of 2nd dimension\n",
        "x[0, 0, :] # same as x[0][0]"
      ],
      "metadata": {
        "colab": {
          "base_uri": "https://localhost:8080/"
        },
        "id": "c9iZQcq2e6UN",
        "outputId": "be4d52a6-e1c8-4985-b09f-868528465738"
      },
      "execution_count": 32,
      "outputs": [
        {
          "output_type": "execute_result",
          "data": {
            "text/plain": [
              "tensor([1, 2, 3])"
            ]
          },
          "metadata": {},
          "execution_count": 32
        }
      ]
    },
    {
      "cell_type": "markdown",
      "source": [
        "## PyTorch tensors & NumPy"
      ],
      "metadata": {
        "id": "Yf2LxyAOe9-u"
      }
    },
    {
      "cell_type": "markdown",
      "source": [
        "Since NumPy is a popular Python numerical computing library, PyTorch has functionality to interact with it nicely.\n",
        "\n",
        "The two main methods you'll want to use for NumPy to PyTorch (and back again) are:\n",
        "\n",
        "*   `torch.from_numpy(ndarray)` - NumPy array -> PyTorch tensor.\n",
        "*   `torch.Tensor.numpy()` - PyTorch tensor -> NumPy array."
      ],
      "metadata": {
        "id": "KlOAUFxUfTFW"
      }
    },
    {
      "cell_type": "code",
      "source": [
        "# NumPy array to tensor\n",
        "import torch\n",
        "import numpy as np\n",
        "array = np.arange(1.0, 8.0)\n",
        "tensor = torch.from_numpy(array)\n",
        "array, tensor"
      ],
      "metadata": {
        "colab": {
          "base_uri": "https://localhost:8080/"
        },
        "id": "UAqFxMjYfeCU",
        "outputId": "fc0574fd-eaa9-4861-95da-ef222e2e2960"
      },
      "execution_count": 33,
      "outputs": [
        {
          "output_type": "execute_result",
          "data": {
            "text/plain": [
              "(array([1., 2., 3., 4., 5., 6., 7.]),\n",
              " tensor([1., 2., 3., 4., 5., 6., 7.], dtype=torch.float64))"
            ]
          },
          "metadata": {},
          "execution_count": 33
        }
      ]
    },
    {
      "cell_type": "code",
      "source": [
        "# Change the array, keep the tensor\n",
        "array = array + 1\n",
        "array, tensor"
      ],
      "metadata": {
        "colab": {
          "base_uri": "https://localhost:8080/"
        },
        "id": "3DAvR7VsgR0S",
        "outputId": "c3d586c5-1a83-4b71-c047-660e01b8ffc7"
      },
      "execution_count": 34,
      "outputs": [
        {
          "output_type": "execute_result",
          "data": {
            "text/plain": [
              "(array([2., 3., 4., 5., 6., 7., 8.]),\n",
              " tensor([1., 2., 3., 4., 5., 6., 7.], dtype=torch.float64))"
            ]
          },
          "metadata": {},
          "execution_count": 34
        }
      ]
    },
    {
      "cell_type": "code",
      "source": [
        "# Tensor to NumPy array\n",
        "tensor = torch.ones(7) # create a tensor of ones with dtype=float32\n",
        "numpy_tensor = tensor.numpy() # will be dtype=float32 unless changed\n",
        "tensor, numpy_tensor"
      ],
      "metadata": {
        "colab": {
          "base_uri": "https://localhost:8080/"
        },
        "id": "8MqBRHougU5H",
        "outputId": "d3d021d8-b6ee-4850-807f-d10d112ddfff"
      },
      "execution_count": 35,
      "outputs": [
        {
          "output_type": "execute_result",
          "data": {
            "text/plain": [
              "(tensor([1., 1., 1., 1., 1., 1., 1.]),\n",
              " array([1., 1., 1., 1., 1., 1., 1.], dtype=float32))"
            ]
          },
          "metadata": {},
          "execution_count": 35
        }
      ]
    },
    {
      "cell_type": "code",
      "source": [
        "# Change the tensor, keep the array the same\n",
        "tensor = tensor + 1\n",
        "tensor, numpy_tensor"
      ],
      "metadata": {
        "colab": {
          "base_uri": "https://localhost:8080/"
        },
        "id": "EJCM5h-kgZ4w",
        "outputId": "dd38386d-7c40-4e26-ed34-06f168c48871"
      },
      "execution_count": 36,
      "outputs": [
        {
          "output_type": "execute_result",
          "data": {
            "text/plain": [
              "(tensor([2., 2., 2., 2., 2., 2., 2.]),\n",
              " array([1., 1., 1., 1., 1., 1., 1.], dtype=float32))"
            ]
          },
          "metadata": {},
          "execution_count": 36
        }
      ]
    },
    {
      "cell_type": "markdown",
      "source": [
        "## Reproducibility (trying to take the random out of random)\n"
      ],
      "metadata": {
        "id": "9MGBH8Zlg-tm"
      }
    },
    {
      "cell_type": "code",
      "source": [
        "\n",
        "# Create two random tensors\n",
        "random_tensor_A = torch.rand(3, 4)\n",
        "random_tensor_B = torch.rand(3, 4)\n",
        "\n",
        "print(f\"Tensor A:\\n{random_tensor_A}\\n\")\n",
        "print(f\"Tensor B:\\n{random_tensor_B}\\n\")\n",
        "print(f\"Does Tensor A equal Tensor B? (anywhere)\")\n",
        "random_tensor_A == random_tensor_B"
      ],
      "metadata": {
        "colab": {
          "base_uri": "https://localhost:8080/"
        },
        "id": "xi0dikNIg31r",
        "outputId": "374e8e5c-da51-45f2-8f3e-7e893f3d1b43"
      },
      "execution_count": 37,
      "outputs": [
        {
          "output_type": "stream",
          "name": "stdout",
          "text": [
            "Tensor A:\n",
            "tensor([[0.7562, 0.5608, 0.4200, 0.2503],\n",
            "        [0.9546, 0.8923, 0.4896, 0.5771],\n",
            "        [0.5976, 0.1226, 0.1561, 0.3065]])\n",
            "\n",
            "Tensor B:\n",
            "tensor([[0.1799, 0.6887, 0.2485, 0.5555],\n",
            "        [0.1371, 0.2051, 0.5263, 0.7102],\n",
            "        [0.1993, 0.3260, 0.8565, 0.7818]])\n",
            "\n",
            "Does Tensor A equal Tensor B? (anywhere)\n"
          ]
        },
        {
          "output_type": "execute_result",
          "data": {
            "text/plain": [
              "tensor([[False, False, False, False],\n",
              "        [False, False, False, False],\n",
              "        [False, False, False, False]])"
            ]
          },
          "metadata": {},
          "execution_count": 37
        }
      ]
    },
    {
      "cell_type": "code",
      "source": [
        "import torch\n",
        "import random\n",
        "\n",
        "# # Set the random seed\n",
        "RANDOM_SEED=42 # try changing this to different values and see what happens to the numbers below\n",
        "torch.manual_seed(seed=RANDOM_SEED)\n",
        "random_tensor_C = torch.rand(3, 4)\n",
        "\n",
        "# Have to reset the seed every time a new rand() is called\n",
        "# Without this, tensor_D would be different to tensor_C\n",
        "torch.random.manual_seed(seed=RANDOM_SEED) # try commenting this line out and seeing what happens\n",
        "random_tensor_D = torch.rand(3, 4)\n",
        "\n",
        "print(f\"Tensor C:\\n{random_tensor_C}\\n\")\n",
        "print(f\"Tensor D:\\n{random_tensor_D}\\n\")\n",
        "print(f\"Does Tensor C equal Tensor D? (anywhere)\")\n",
        "random_tensor_C == random_tensor_D"
      ],
      "metadata": {
        "colab": {
          "base_uri": "https://localhost:8080/"
        },
        "id": "o1HXI8UihP9z",
        "outputId": "56832981-63f8-44fe-ff07-e3245d3ef791"
      },
      "execution_count": 38,
      "outputs": [
        {
          "output_type": "stream",
          "name": "stdout",
          "text": [
            "Tensor C:\n",
            "tensor([[0.8823, 0.9150, 0.3829, 0.9593],\n",
            "        [0.3904, 0.6009, 0.2566, 0.7936],\n",
            "        [0.9408, 0.1332, 0.9346, 0.5936]])\n",
            "\n",
            "Tensor D:\n",
            "tensor([[0.8823, 0.9150, 0.3829, 0.9593],\n",
            "        [0.3904, 0.6009, 0.2566, 0.7936],\n",
            "        [0.9408, 0.1332, 0.9346, 0.5936]])\n",
            "\n",
            "Does Tensor C equal Tensor D? (anywhere)\n"
          ]
        },
        {
          "output_type": "execute_result",
          "data": {
            "text/plain": [
              "tensor([[True, True, True, True],\n",
              "        [True, True, True, True],\n",
              "        [True, True, True, True]])"
            ]
          },
          "metadata": {},
          "execution_count": 38
        }
      ]
    },
    {
      "cell_type": "markdown",
      "source": [
        "## Running tensors on GPUs (and making faster computations)"
      ],
      "metadata": {
        "id": "rLF1xMwyhmwU"
      }
    },
    {
      "cell_type": "code",
      "source": [
        "!nvidia-smi"
      ],
      "metadata": {
        "colab": {
          "base_uri": "https://localhost:8080/"
        },
        "id": "89utzKjtiQFd",
        "outputId": "da852c34-7cde-417c-9cca-fc0b8e5c649f"
      },
      "execution_count": 1,
      "outputs": [
        {
          "output_type": "stream",
          "name": "stdout",
          "text": [
            "Wed Jul  5 14:52:34 2023       \n",
            "+-----------------------------------------------------------------------------+\n",
            "| NVIDIA-SMI 525.85.12    Driver Version: 525.85.12    CUDA Version: 12.0     |\n",
            "|-------------------------------+----------------------+----------------------+\n",
            "| GPU  Name        Persistence-M| Bus-Id        Disp.A | Volatile Uncorr. ECC |\n",
            "| Fan  Temp  Perf  Pwr:Usage/Cap|         Memory-Usage | GPU-Util  Compute M. |\n",
            "|                               |                      |               MIG M. |\n",
            "|===============================+======================+======================|\n",
            "|   0  Tesla T4            Off  | 00000000:00:04.0 Off |                    0 |\n",
            "| N/A   42C    P8     9W /  70W |      0MiB / 15360MiB |      0%      Default |\n",
            "|                               |                      |                  N/A |\n",
            "+-------------------------------+----------------------+----------------------+\n",
            "                                                                               \n",
            "+-----------------------------------------------------------------------------+\n",
            "| Processes:                                                                  |\n",
            "|  GPU   GI   CI        PID   Type   Process name                  GPU Memory |\n",
            "|        ID   ID                                                   Usage      |\n",
            "|=============================================================================|\n",
            "|  No running processes found                                                 |\n",
            "+-----------------------------------------------------------------------------+\n"
          ]
        }
      ]
    },
    {
      "cell_type": "markdown",
      "source": [
        "### Getting PyTorch to run on the GPU"
      ],
      "metadata": {
        "id": "GRtSs7CkiouT"
      }
    },
    {
      "cell_type": "code",
      "source": [
        "# Check for GPU\n",
        "import torch\n",
        "torch.cuda.is_available()"
      ],
      "metadata": {
        "colab": {
          "base_uri": "https://localhost:8080/"
        },
        "id": "8TAPUg4wivlR",
        "outputId": "0590f773-53e8-4823-d5ab-086fbc25aad8"
      },
      "execution_count": 2,
      "outputs": [
        {
          "output_type": "execute_result",
          "data": {
            "text/plain": [
              "True"
            ]
          },
          "metadata": {},
          "execution_count": 2
        }
      ]
    },
    {
      "cell_type": "code",
      "source": [
        "# Set device type\n",
        "device = \"cuda\" if torch.cuda.is_available() else \"cpu\"\n",
        "device"
      ],
      "metadata": {
        "colab": {
          "base_uri": "https://localhost:8080/",
          "height": 36
        },
        "id": "XPbFvFmfi2A5",
        "outputId": "16dbc640-13a2-4a53-9ad8-40c5166f3c78"
      },
      "execution_count": 3,
      "outputs": [
        {
          "output_type": "execute_result",
          "data": {
            "text/plain": [
              "'cuda'"
            ],
            "application/vnd.google.colaboratory.intrinsic+json": {
              "type": "string"
            }
          },
          "metadata": {},
          "execution_count": 3
        }
      ]
    },
    {
      "cell_type": "code",
      "source": [
        "# Count number of devices\n",
        "torch.cuda.device_count()"
      ],
      "metadata": {
        "colab": {
          "base_uri": "https://localhost:8080/"
        },
        "id": "lXhtIejoi8T3",
        "outputId": "15a42dfd-498d-42f5-b034-a9ebea29bdd3"
      },
      "execution_count": 4,
      "outputs": [
        {
          "output_type": "execute_result",
          "data": {
            "text/plain": [
              "1"
            ]
          },
          "metadata": {},
          "execution_count": 4
        }
      ]
    },
    {
      "cell_type": "markdown",
      "source": [
        "## Putting tensors (and models) on the GPU"
      ],
      "metadata": {
        "id": "0A8CF81ljCXC"
      }
    },
    {
      "cell_type": "code",
      "source": [
        "# Create tensor (default on CPU)\n",
        "tensor = torch.tensor([1, 2, 3])\n",
        "\n",
        "# Tensor not on GPU\n",
        "print(tensor, tensor.device)\n",
        "\n",
        "# Move tensor to GPU (if available)\n",
        "tensor_on_gpu = tensor.to(device)\n",
        "tensor_on_gpu"
      ],
      "metadata": {
        "colab": {
          "base_uri": "https://localhost:8080/"
        },
        "id": "wgNj7hH7jGlh",
        "outputId": "d4d783ec-78c2-438a-e7bc-5efbcd43d4d7"
      },
      "execution_count": 5,
      "outputs": [
        {
          "output_type": "stream",
          "name": "stdout",
          "text": [
            "tensor([1, 2, 3]) cpu\n"
          ]
        },
        {
          "output_type": "execute_result",
          "data": {
            "text/plain": [
              "tensor([1, 2, 3], device='cuda:0')"
            ]
          },
          "metadata": {},
          "execution_count": 5
        }
      ]
    },
    {
      "cell_type": "markdown",
      "source": [
        "## Moving tensors back to the CPU"
      ],
      "metadata": {
        "id": "wP5Q_TuujWU9"
      }
    },
    {
      "cell_type": "code",
      "source": [
        "tensor_back_on_cpu = tensor_on_gpu.cpu().numpy()\n",
        "tensor_back_on_cpu"
      ],
      "metadata": {
        "colab": {
          "base_uri": "https://localhost:8080/"
        },
        "id": "8MHlVRODjfM3",
        "outputId": "6ebadcb6-acb6-4fb8-f1c6-ce99ff9c8f6e"
      },
      "execution_count": 7,
      "outputs": [
        {
          "output_type": "execute_result",
          "data": {
            "text/plain": [
              "array([1, 2, 3])"
            ]
          },
          "metadata": {},
          "execution_count": 7
        }
      ]
    },
    {
      "cell_type": "code",
      "source": [
        "tensor_on_gpu"
      ],
      "metadata": {
        "colab": {
          "base_uri": "https://localhost:8080/"
        },
        "id": "pdVuYQYHjsmQ",
        "outputId": "48e3390e-85d2-469f-ef90-3e9d92eb1350"
      },
      "execution_count": 8,
      "outputs": [
        {
          "output_type": "execute_result",
          "data": {
            "text/plain": [
              "tensor([1, 2, 3], device='cuda:0')"
            ]
          },
          "metadata": {},
          "execution_count": 8
        }
      ]
    },
    {
      "cell_type": "markdown",
      "source": [
        "# Exercise"
      ],
      "metadata": {
        "id": "CmFreQc6juO0"
      }
    },
    {
      "cell_type": "markdown",
      "source": [
        "**question 1:** Create a random tensor with shape (7, 7)."
      ],
      "metadata": {
        "id": "i2J8GIAkkA1Z"
      }
    },
    {
      "cell_type": "code",
      "source": [
        "# Import torch\n",
        "import torch\n",
        "\n",
        "# Create random tensor\n",
        "tensor = torch.rand(size=(7, 7))\n",
        "tensor"
      ],
      "metadata": {
        "colab": {
          "base_uri": "https://localhost:8080/"
        },
        "id": "AZ30bO8YkExj",
        "outputId": "60e22e5d-64d6-4f80-c03f-60c949ae91bf"
      },
      "execution_count": 9,
      "outputs": [
        {
          "output_type": "execute_result",
          "data": {
            "text/plain": [
              "tensor([[0.5952, 0.0309, 0.3068, 0.6044, 0.7304, 0.5977, 0.3740],\n",
              "        [0.9656, 0.1102, 0.7834, 0.9828, 0.8010, 0.5098, 0.0780],\n",
              "        [0.0615, 0.2655, 0.6770, 0.7602, 0.0912, 0.4707, 0.2268],\n",
              "        [0.4432, 0.7435, 0.7542, 0.8599, 0.5696, 0.2754, 0.3312],\n",
              "        [0.1203, 0.7948, 0.8860, 0.7018, 0.8999, 0.5828, 0.6818],\n",
              "        [0.1042, 0.7574, 0.2286, 0.2206, 0.7642, 0.7336, 0.4368],\n",
              "        [0.9246, 0.2859, 0.8937, 0.4323, 0.5980, 0.8561, 0.4856]])"
            ]
          },
          "metadata": {},
          "execution_count": 9
        }
      ]
    },
    {
      "cell_type": "code",
      "source": [
        "tensor.shape"
      ],
      "metadata": {
        "colab": {
          "base_uri": "https://localhost:8080/"
        },
        "id": "MV9ixc0HkQHB",
        "outputId": "e8a7a175-8bff-4569-e31b-b9b1f96ce795"
      },
      "execution_count": 10,
      "outputs": [
        {
          "output_type": "execute_result",
          "data": {
            "text/plain": [
              "torch.Size([7, 7])"
            ]
          },
          "metadata": {},
          "execution_count": 10
        }
      ]
    },
    {
      "cell_type": "markdown",
      "source": [
        "**question 2:**  Perform a matrix multiplication on the tensor from 2 with another random tensor with shape"
      ],
      "metadata": {
        "id": "hw2badj0kcK4"
      }
    },
    {
      "cell_type": "code",
      "source": [
        "# Create another random tensor\n",
        "Y = torch.rand(size=(1, 7))\n",
        "# Z = torch.matmul(X, Y) # will error because of shape issues\n",
        "Z = torch.matmul(X, Y.T) # no error because of transpose\n",
        "print(Y)\n",
        "print(Z)\n",
        "print(\"\\nResult\")\n",
        "\n",
        "Z, Z.shape\n",
        ""
      ],
      "metadata": {
        "colab": {
          "base_uri": "https://localhost:8080/"
        },
        "id": "GYTCeJyZkyHN",
        "outputId": "21283c0e-60f0-448d-f9da-82148961b788"
      },
      "execution_count": 24,
      "outputs": [
        {
          "output_type": "stream",
          "name": "stdout",
          "text": [
            "tensor([[0.1147, 0.3168, 0.6965, 0.9143, 0.9351, 0.9412, 0.5995]])\n",
            "tensor([[1.6607],\n",
            "        [1.5044],\n",
            "        [2.2402],\n",
            "        [2.6585],\n",
            "        [1.7129],\n",
            "        [2.7139],\n",
            "        [2.0715]])\n",
            "\n",
            "Result\n"
          ]
        },
        {
          "output_type": "execute_result",
          "data": {
            "text/plain": [
              "(tensor([[1.6607],\n",
              "         [1.5044],\n",
              "         [2.2402],\n",
              "         [2.6585],\n",
              "         [1.7129],\n",
              "         [2.7139],\n",
              "         [2.0715]]),\n",
              " torch.Size([7, 1]))"
            ]
          },
          "metadata": {},
          "execution_count": 24
        }
      ]
    },
    {
      "cell_type": "markdown",
      "source": [
        "**Question 3:**  Set the random seed to 0 and do exercises 1 & 2 over again."
      ],
      "metadata": {
        "id": "JWzjw37Qmld9"
      }
    },
    {
      "cell_type": "code",
      "source": [
        "# Set manual seed\n",
        "torch.manual_seed(0)\n",
        "\n",
        "# Create two random tensors\n",
        "X = torch.rand(size=(7, 7))\n",
        "Y = torch.rand(size=(1, 7))\n",
        "\n",
        "# Matrix multiply tensors\n",
        "Z = torch.matmul(X, Y.T)\n",
        "Z, Z.shape"
      ],
      "metadata": {
        "colab": {
          "base_uri": "https://localhost:8080/"
        },
        "id": "bvKBW_EcmvXT",
        "outputId": "fba36cb7-7301-47b3-83e6-245cf40ce236"
      },
      "execution_count": 20,
      "outputs": [
        {
          "output_type": "execute_result",
          "data": {
            "text/plain": [
              "(tensor([[1.8542],\n",
              "         [1.9611],\n",
              "         [2.2884],\n",
              "         [3.0481],\n",
              "         [1.7067],\n",
              "         [2.5290],\n",
              "         [1.7989]]),\n",
              " torch.Size([7, 1]))"
            ]
          },
          "metadata": {},
          "execution_count": 20
        }
      ]
    },
    {
      "cell_type": "markdown",
      "source": [
        "**Question 4.** Speaking of random seeds, we saw how to set it with torch.manual_seed() but is there a GPU equivalent? (hint: you'll need to look into the documentation for torch.cuda for this one)"
      ],
      "metadata": {
        "id": "w42tzisSoWtt"
      }
    },
    {
      "cell_type": "code",
      "source": [
        "# Set random seed on the GPU\n",
        "torch.cuda.manual_seed(1234)"
      ],
      "metadata": {
        "id": "Ai5owQ7Yom1_"
      },
      "execution_count": 26,
      "outputs": []
    },
    {
      "cell_type": "markdown",
      "source": [
        "**Question 5** Create two random tensors of shape (2, 3) and send them both to the GPU (you'll need access to a GPU for this). Set torch.manual_seed(1234) when creating the tensors (this doesn't have to be the GPU random seed)."
      ],
      "metadata": {
        "id": "jryedSFqou12"
      }
    },
    {
      "cell_type": "code",
      "source": [
        "# Set random seed\n",
        "torch.manual_seed(1234)\n",
        "\n",
        "# Check for access to GPU\n",
        "device = \"cuda\" if torch.cuda.is_available() else \"cpu\"\n",
        "print(f\"Device: {device}\")\n",
        "\n",
        "# Create two random tensors on GPU\n",
        "tensor_A = torch.rand(size=(2,3)).to(device)\n",
        "tensor_B = torch.rand(size=(2,3)).to(device)\n",
        "tensor_A, tensor_B"
      ],
      "metadata": {
        "colab": {
          "base_uri": "https://localhost:8080/"
        },
        "id": "sBPhU5eGo1cZ",
        "outputId": "8497afae-bcac-4556-be48-7d4251c6d4c0"
      },
      "execution_count": 27,
      "outputs": [
        {
          "output_type": "stream",
          "name": "stdout",
          "text": [
            "Device: cuda\n"
          ]
        },
        {
          "output_type": "execute_result",
          "data": {
            "text/plain": [
              "(tensor([[0.0290, 0.4019, 0.2598],\n",
              "         [0.3666, 0.0583, 0.7006]], device='cuda:0'),\n",
              " tensor([[0.0518, 0.4681, 0.6738],\n",
              "         [0.3315, 0.7837, 0.5631]], device='cuda:0'))"
            ]
          },
          "metadata": {},
          "execution_count": 27
        }
      ]
    },
    {
      "cell_type": "markdown",
      "source": [
        "**Question 6:**  Perform a matrix multiplication on the tensors you created in 6 (again, you may have to adjust the shapes of one of the tensors)."
      ],
      "metadata": {
        "id": "fBGLz_3SpBzW"
      }
    },
    {
      "cell_type": "code",
      "source": [
        "# Perform matmul on tensor_A and tensor_B\n",
        "# tensor_C = torch.matmul(tensor_A, tensor_B) # won't work because of shape error\n",
        "tensor_C = torch.matmul(tensor_A, tensor_B.T)\n",
        "tensor_C, tensor_C.shape"
      ],
      "metadata": {
        "colab": {
          "base_uri": "https://localhost:8080/"
        },
        "id": "qWt7wcJcpLoq",
        "outputId": "d896d82a-6993-489f-90ee-384311c6c2bb"
      },
      "execution_count": 28,
      "outputs": [
        {
          "output_type": "execute_result",
          "data": {
            "text/plain": [
              "(tensor([[0.3647, 0.4709],\n",
              "         [0.5184, 0.5617]], device='cuda:0'),\n",
              " torch.Size([2, 2]))"
            ]
          },
          "metadata": {},
          "execution_count": 28
        }
      ]
    },
    {
      "cell_type": "markdown",
      "source": [
        "**Question 7** Find the maximum and minimum values of the output of 7."
      ],
      "metadata": {
        "id": "ITWqO9nZpREn"
      }
    },
    {
      "cell_type": "code",
      "source": [
        "# Find max\n",
        "print(tensor_C)\n",
        "max = torch.max(tensor_C)\n",
        "\n",
        "# Find min\n",
        "min = torch.min(tensor_C)\n",
        "max, min"
      ],
      "metadata": {
        "colab": {
          "base_uri": "https://localhost:8080/"
        },
        "id": "JkahjjLwpXTW",
        "outputId": "91f4a913-fe3b-4364-e7c4-d372f63dc88f"
      },
      "execution_count": 30,
      "outputs": [
        {
          "output_type": "stream",
          "name": "stdout",
          "text": [
            "tensor([[0.3647, 0.4709],\n",
            "        [0.5184, 0.5617]], device='cuda:0')\n"
          ]
        },
        {
          "output_type": "execute_result",
          "data": {
            "text/plain": [
              "(tensor(0.5617, device='cuda:0'), tensor(0.3647, device='cuda:0'))"
            ]
          },
          "metadata": {},
          "execution_count": 30
        }
      ]
    },
    {
      "cell_type": "markdown",
      "source": [
        "**Question 8:** Find the maximum and minimum index values of the output of 7."
      ],
      "metadata": {
        "id": "5FqbDSXjpidE"
      }
    },
    {
      "cell_type": "code",
      "source": [
        "# Find arg max\n",
        "print(tensor_C)\n",
        "arg_max = torch.argmax(tensor_C)\n",
        "\n",
        "# Find arg min\n",
        "arg_min = torch.argmin(tensor_C)\n",
        "arg_max, arg_min"
      ],
      "metadata": {
        "colab": {
          "base_uri": "https://localhost:8080/"
        },
        "id": "6QsHYOkJptrQ",
        "outputId": "49379cf4-8e68-487d-82da-1efd2f35c604"
      },
      "execution_count": 32,
      "outputs": [
        {
          "output_type": "stream",
          "name": "stdout",
          "text": [
            "tensor([[0.3647, 0.4709],\n",
            "        [0.5184, 0.5617]], device='cuda:0')\n"
          ]
        },
        {
          "output_type": "execute_result",
          "data": {
            "text/plain": [
              "(tensor(3, device='cuda:0'), tensor(0, device='cuda:0'))"
            ]
          },
          "metadata": {},
          "execution_count": 32
        }
      ]
    },
    {
      "cell_type": "markdown",
      "source": [
        "**Question 9:** Make a random tensor with shape (1, 1, 1, 10) and then create a new tensor with all the 1 dimensions removed to be left with a tensor of shape (10). Set the seed to 7 when you create it and print out the first tensor and it's shape as well as the second tensor and it's shape."
      ],
      "metadata": {
        "id": "dHYhzokoqDB4"
      }
    },
    {
      "cell_type": "code",
      "source": [
        "# Set seed\n",
        "torch.manual_seed(7)\n",
        "\n",
        "# Create random tensor\n",
        "tensor_D = torch.rand(size=(1, 1, 1, 10))\n",
        "\n",
        "# Remove single dimensions\n",
        "tensor_E = tensor_D.squeeze()\n",
        "\n",
        "# Print out tensors\n",
        "print(tensor_D, tensor_D.shape)\n",
        "print(tensor_E, tensor_E.shape)"
      ],
      "metadata": {
        "colab": {
          "base_uri": "https://localhost:8080/"
        },
        "id": "zD-ZHXeQqKeR",
        "outputId": "65e78a1c-7a59-4321-9dbb-0cb69d945054"
      },
      "execution_count": 33,
      "outputs": [
        {
          "output_type": "stream",
          "name": "stdout",
          "text": [
            "tensor([[[[0.5349, 0.1988, 0.6592, 0.6569, 0.2328, 0.4251, 0.2071, 0.6297,\n",
            "           0.3653, 0.8513]]]]) torch.Size([1, 1, 1, 10])\n",
            "tensor([0.5349, 0.1988, 0.6592, 0.6569, 0.2328, 0.4251, 0.2071, 0.6297, 0.3653,\n",
            "        0.8513]) torch.Size([10])\n"
          ]
        }
      ]
    }
  ]
}