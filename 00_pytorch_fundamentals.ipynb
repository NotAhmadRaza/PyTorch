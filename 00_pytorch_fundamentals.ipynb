{
  "nbformat": 4,
  "nbformat_minor": 0,
  "metadata": {
    "colab": {
      "provenance": [],
      "toc_visible": true,
      "gpuType": "T4",
      "authorship_tag": "ABX9TyNWZ2up4endKJt9GRGi5jqr",
      "include_colab_link": true
    },
    "kernelspec": {
      "name": "python3",
      "display_name": "Python 3"
    },
    "language_info": {
      "name": "python"
    },
    "accelerator": "GPU"
  },
  "cells": [
    {
      "cell_type": "markdown",
      "metadata": {
        "id": "view-in-github",
        "colab_type": "text"
      },
      "source": [
        "<a href=\"https://colab.research.google.com/github/NotAhmadRaza/PyTorch/blob/main/00_pytorch_fundamentals.ipynb\" target=\"_parent\"><img src=\"https://colab.research.google.com/assets/colab-badge.svg\" alt=\"Open In Colab\"/></a>"
      ]
    },
    {
      "cell_type": "code",
      "execution_count": 1,
      "metadata": {
        "colab": {
          "base_uri": "https://localhost:8080/"
        },
        "id": "XHcYfGMIhiNJ",
        "outputId": "637d48ba-6f45-4d4a-e37a-7ab5824d1186"
      },
      "outputs": [
        {
          "output_type": "stream",
          "name": "stdout",
          "text": [
            "I am Excited to learn pytorch\n"
          ]
        }
      ],
      "source": [
        "print('I am Excited to learn pytorch');"
      ]
    },
    {
      "cell_type": "code",
      "source": [],
      "metadata": {
        "id": "IpyIGj5vpbaP"
      },
      "execution_count": null,
      "outputs": []
    },
    {
      "cell_type": "code",
      "source": [
        "!nvidia-smi"
      ],
      "metadata": {
        "colab": {
          "base_uri": "https://localhost:8080/"
        },
        "id": "WJkQ715uivkH",
        "outputId": "8a7fcf79-f373-4222-b5f1-9f77b04aecef"
      },
      "execution_count": 1,
      "outputs": [
        {
          "output_type": "stream",
          "name": "stdout",
          "text": [
            "Tue Jul  4 06:16:29 2023       \n",
            "+-----------------------------------------------------------------------------+\n",
            "| NVIDIA-SMI 525.85.12    Driver Version: 525.85.12    CUDA Version: 12.0     |\n",
            "|-------------------------------+----------------------+----------------------+\n",
            "| GPU  Name        Persistence-M| Bus-Id        Disp.A | Volatile Uncorr. ECC |\n",
            "| Fan  Temp  Perf  Pwr:Usage/Cap|         Memory-Usage | GPU-Util  Compute M. |\n",
            "|                               |                      |               MIG M. |\n",
            "|===============================+======================+======================|\n",
            "|   0  Tesla T4            Off  | 00000000:00:04.0 Off |                    0 |\n",
            "| N/A   44C    P8     9W /  70W |      0MiB / 15360MiB |      0%      Default |\n",
            "|                               |                      |                  N/A |\n",
            "+-------------------------------+----------------------+----------------------+\n",
            "                                                                               \n",
            "+-----------------------------------------------------------------------------+\n",
            "| Processes:                                                                  |\n",
            "|  GPU   GI   CI        PID   Type   Process name                  GPU Memory |\n",
            "|        ID   ID                                                   Usage      |\n",
            "|=============================================================================|\n",
            "|  No running processes found                                                 |\n",
            "+-----------------------------------------------------------------------------+\n"
          ]
        }
      ]
    },
    {
      "cell_type": "markdown",
      "source": [
        "##PyTorch Fundamentals 00\n",
        "Resources Notebool: https://github.com/NotAhmadRaza\n",
        "If You have any question: ar784419@gmail.com"
      ],
      "metadata": {
        "id": "rirCAAUCjVnZ"
      }
    },
    {
      "cell_type": "code",
      "source": [
        "import torch\n",
        "import pandas as pd\n",
        "import numpy as np\n",
        "import matplotlib.pyplot as plt\n",
        "print(torch.__version__)"
      ],
      "metadata": {
        "colab": {
          "base_uri": "https://localhost:8080/"
        },
        "id": "Oqp8p4Fwk4zL",
        "outputId": "b6bb71df-f6a0-41ec-9794-553d24073de6"
      },
      "execution_count": 4,
      "outputs": [
        {
          "output_type": "stream",
          "name": "stdout",
          "text": [
            "2.0.1+cu118\n"
          ]
        }
      ]
    },
    {
      "cell_type": "markdown",
      "source": [
        "## Introduction to Tensors\n"
      ],
      "metadata": {
        "id": "USIlqCrhrT6W"
      }
    },
    {
      "cell_type": "markdown",
      "source": [
        "### Creating Tesnsors\n",
        "\n",
        "Pytorch Tensors are creating using this link `torch.Tensors()`=https://pytorch.org/docs/stable/tensors.html"
      ],
      "metadata": {
        "id": "GnYqH1Xkrko5"
      }
    },
    {
      "cell_type": "code",
      "source": [
        "# scalar\n",
        "\n",
        "scalar = torch.tensor(7)\n",
        "scalar"
      ],
      "metadata": {
        "colab": {
          "base_uri": "https://localhost:8080/"
        },
        "id": "BHQ6DvILsKcm",
        "outputId": "59f751cb-42a2-4476-a815-3fe3ea835ba8"
      },
      "execution_count": 3,
      "outputs": [
        {
          "output_type": "execute_result",
          "data": {
            "text/plain": [
              "tensor(7)"
            ]
          },
          "metadata": {},
          "execution_count": 3
        }
      ]
    },
    {
      "cell_type": "code",
      "source": [
        "import torch\n",
        "# vector\n",
        "vector = torch.tensor([7,7])\n",
        "vector"
      ],
      "metadata": {
        "colab": {
          "base_uri": "https://localhost:8080/"
        },
        "id": "rfq4bQWIwmTh",
        "outputId": "08b318e5-ff54-4cbd-967a-3691e07c83bc"
      },
      "execution_count": 4,
      "outputs": [
        {
          "output_type": "execute_result",
          "data": {
            "text/plain": [
              "tensor([7, 7])"
            ]
          },
          "metadata": {},
          "execution_count": 4
        }
      ]
    },
    {
      "cell_type": "code",
      "source": [
        "vector.ndim"
      ],
      "metadata": {
        "colab": {
          "base_uri": "https://localhost:8080/"
        },
        "id": "ofv3nxlyx_9M",
        "outputId": "b85cd371-ca8b-4890-e472-4c0419625fad"
      },
      "execution_count": 6,
      "outputs": [
        {
          "output_type": "execute_result",
          "data": {
            "text/plain": [
              "1"
            ]
          },
          "metadata": {},
          "execution_count": 6
        }
      ]
    },
    {
      "cell_type": "code",
      "source": [
        "vector.shape"
      ],
      "metadata": {
        "colab": {
          "base_uri": "https://localhost:8080/"
        },
        "id": "xXVn81rayIM8",
        "outputId": "27b7a25e-6670-46d1-eb87-4b374a5ebba8"
      },
      "execution_count": 7,
      "outputs": [
        {
          "output_type": "execute_result",
          "data": {
            "text/plain": [
              "torch.Size([2])"
            ]
          },
          "metadata": {},
          "execution_count": 7
        }
      ]
    },
    {
      "cell_type": "code",
      "source": [
        "# MATRIX\n",
        "\n",
        "MATRIX =torch.tensor([[1,8,9,4] ,[7,2,4,6]])\n",
        "MATRIX"
      ],
      "metadata": {
        "colab": {
          "base_uri": "https://localhost:8080/"
        },
        "id": "0Po6MVvNyOQD",
        "outputId": "5e9267fb-512c-4ae4-c014-545227f2dc3b"
      },
      "execution_count": 9,
      "outputs": [
        {
          "output_type": "execute_result",
          "data": {
            "text/plain": [
              "tensor([[1, 8, 9, 4],\n",
              "        [7, 2, 4, 6]])"
            ]
          },
          "metadata": {},
          "execution_count": 9
        }
      ]
    },
    {
      "cell_type": "code",
      "source": [
        "MATRIX.shape\n"
      ],
      "metadata": {
        "colab": {
          "base_uri": "https://localhost:8080/"
        },
        "id": "zSrZTwdayo_Y",
        "outputId": "d39dae5c-92cd-441a-cdde-e50f3396c47a"
      },
      "execution_count": 13,
      "outputs": [
        {
          "output_type": "execute_result",
          "data": {
            "text/plain": [
              "torch.Size([2, 4])"
            ]
          },
          "metadata": {},
          "execution_count": 13
        }
      ]
    },
    {
      "cell_type": "code",
      "source": [],
      "metadata": {
        "id": "nLn7HwZj4FNL"
      },
      "execution_count": null,
      "outputs": []
    },
    {
      "cell_type": "code",
      "source": [
        "MATRIX.ndim"
      ],
      "metadata": {
        "colab": {
          "base_uri": "https://localhost:8080/"
        },
        "id": "HH1ZDCdZy6mD",
        "outputId": "40e8c5e7-06fe-4627-e96e-8a0a23228a65"
      },
      "execution_count": 14,
      "outputs": [
        {
          "output_type": "execute_result",
          "data": {
            "text/plain": [
              "2"
            ]
          },
          "metadata": {},
          "execution_count": 14
        }
      ]
    },
    {
      "cell_type": "code",
      "source": [
        "MATRIX[1]"
      ],
      "metadata": {
        "colab": {
          "base_uri": "https://localhost:8080/"
        },
        "id": "uHI2fcHYzBuq",
        "outputId": "6b12d3e0-67ac-41ae-818a-60ec733b75e7"
      },
      "execution_count": 15,
      "outputs": [
        {
          "output_type": "execute_result",
          "data": {
            "text/plain": [
              "tensor([7, 2, 4, 6])"
            ]
          },
          "metadata": {},
          "execution_count": 15
        }
      ]
    },
    {
      "cell_type": "markdown",
      "source": [
        "## Random Tensors"
      ],
      "metadata": {
        "id": "MTQZ817czLHV"
      }
    },
    {
      "cell_type": "code",
      "source": [
        "Random = torch.rand(2,4,5)\n",
        "Random"
      ],
      "metadata": {
        "colab": {
          "base_uri": "https://localhost:8080/"
        },
        "id": "piNE9Ptx4NRl",
        "outputId": "97b7b821-3e4a-47a4-dd7d-5b900d9b2452"
      },
      "execution_count": 32,
      "outputs": [
        {
          "output_type": "execute_result",
          "data": {
            "text/plain": [
              "tensor([[[0.9788, 0.3676, 0.4896, 0.1490, 0.2901],\n",
              "         [0.9661, 0.1545, 0.2131, 0.6091, 0.6971],\n",
              "         [0.0113, 0.3108, 0.6769, 0.2352, 0.0667],\n",
              "         [0.1312, 0.0677, 0.8197, 0.3407, 0.1224]],\n",
              "\n",
              "        [[0.1645, 0.6966, 0.7460, 0.5880, 0.0816],\n",
              "         [0.5139, 0.1090, 0.0980, 0.8990, 0.3291],\n",
              "         [0.6273, 0.0124, 0.6116, 0.0928, 0.2864],\n",
              "         [0.8052, 0.9458, 0.7465, 0.3058, 0.9794]]])"
            ]
          },
          "metadata": {},
          "execution_count": 32
        }
      ]
    },
    {
      "cell_type": "code",
      "source": [
        "Random.ndim"
      ],
      "metadata": {
        "colab": {
          "base_uri": "https://localhost:8080/"
        },
        "id": "I2LIWt-44WOz",
        "outputId": "5e3c2dfc-4573-4849-e8e9-33d78052a901"
      },
      "execution_count": 33,
      "outputs": [
        {
          "output_type": "execute_result",
          "data": {
            "text/plain": [
              "3"
            ]
          },
          "metadata": {},
          "execution_count": 33
        }
      ]
    },
    {
      "cell_type": "code",
      "source": [
        "Random.shape"
      ],
      "metadata": {
        "colab": {
          "base_uri": "https://localhost:8080/"
        },
        "id": "L9kGoY_44k_K",
        "outputId": "782e74a0-5e65-4fb6-daae-67a6d0a44ea1"
      },
      "execution_count": 34,
      "outputs": [
        {
          "output_type": "execute_result",
          "data": {
            "text/plain": [
              "torch.Size([2, 4, 5])"
            ]
          },
          "metadata": {},
          "execution_count": 34
        }
      ]
    },
    {
      "cell_type": "code",
      "source": [
        "Random[1]"
      ],
      "metadata": {
        "colab": {
          "base_uri": "https://localhost:8080/"
        },
        "id": "hghRwfru4tqP",
        "outputId": "495d2fe3-a6e9-40f5-a8b7-07102ca6ab9f"
      },
      "execution_count": 35,
      "outputs": [
        {
          "output_type": "execute_result",
          "data": {
            "text/plain": [
              "tensor([[0.1645, 0.6966, 0.7460, 0.5880, 0.0816],\n",
              "        [0.5139, 0.1090, 0.0980, 0.8990, 0.3291],\n",
              "        [0.6273, 0.0124, 0.6116, 0.0928, 0.2864],\n",
              "        [0.8052, 0.9458, 0.7465, 0.3058, 0.9794]])"
            ]
          },
          "metadata": {},
          "execution_count": 35
        }
      ]
    },
    {
      "cell_type": "markdown",
      "source": [
        "## Creating matrix with zeros and ones"
      ],
      "metadata": {
        "id": "vRF-JP1__Wrx"
      }
    },
    {
      "cell_type": "code",
      "source": [
        "import torch\n",
        "zeros = torch.zeros(2,2)\n",
        "zeros"
      ],
      "metadata": {
        "colab": {
          "base_uri": "https://localhost:8080/"
        },
        "id": "wMrmc2gx_dg9",
        "outputId": "0c95af68-225b-4301-9c6a-8a72a25a062a"
      },
      "execution_count": 5,
      "outputs": [
        {
          "output_type": "execute_result",
          "data": {
            "text/plain": [
              "tensor([[0., 0.],\n",
              "        [0., 0.]])"
            ]
          },
          "metadata": {},
          "execution_count": 5
        }
      ]
    },
    {
      "cell_type": "code",
      "source": [
        "ones = torch.ones(2,2)\n",
        "ones"
      ],
      "metadata": {
        "colab": {
          "base_uri": "https://localhost:8080/"
        },
        "id": "xx90rYG7_8rP",
        "outputId": "7d413011-5d18-4e27-cbeb-c0b0c8bb4712"
      },
      "execution_count": 11,
      "outputs": [
        {
          "output_type": "execute_result",
          "data": {
            "text/plain": [
              "tensor([[1., 1.],\n",
              "        [1., 1.]])"
            ]
          },
          "metadata": {},
          "execution_count": 11
        }
      ]
    },
    {
      "cell_type": "code",
      "source": [
        "# range\n",
        "\n",
        "one_to_ten = torch.arange(start=1, end=11)\n",
        "one_to_ten"
      ],
      "metadata": {
        "colab": {
          "base_uri": "https://localhost:8080/"
        },
        "id": "BBblnX2uGZ0z",
        "outputId": "3fdc4856-8c9d-4e22-9bfe-8f2b50abbb7a"
      },
      "execution_count": 24,
      "outputs": [
        {
          "output_type": "execute_result",
          "data": {
            "text/plain": [
              "tensor([ 1,  2,  3,  4,  5,  6,  7,  8,  9, 10])"
            ]
          },
          "metadata": {},
          "execution_count": 24
        }
      ]
    },
    {
      "cell_type": "code",
      "source": [
        "#add squence\n",
        "range = torch.arange(start=1, end=100, step=10)\n",
        "range"
      ],
      "metadata": {
        "colab": {
          "base_uri": "https://localhost:8080/"
        },
        "id": "qZyttudeHlxo",
        "outputId": "8423cbcf-8dba-44a3-d36b-b575a6088cee"
      },
      "execution_count": 31,
      "outputs": [
        {
          "output_type": "execute_result",
          "data": {
            "text/plain": [
              "tensor([ 1, 11, 21, 31, 41, 51, 61, 71, 81, 91])"
            ]
          },
          "metadata": {},
          "execution_count": 31
        }
      ]
    },
    {
      "cell_type": "code",
      "source": [
        "#with zeros\n",
        "ten_zeros = torch.zeros_like(input=range)\n",
        "ten_zeros"
      ],
      "metadata": {
        "colab": {
          "base_uri": "https://localhost:8080/"
        },
        "id": "fThqgLJ0H6V4",
        "outputId": "08d51af2-a18d-4274-e8d5-d03829315a8f"
      },
      "execution_count": 32,
      "outputs": [
        {
          "output_type": "execute_result",
          "data": {
            "text/plain": [
              "tensor([0, 0, 0, 0, 0, 0, 0, 0, 0, 0])"
            ]
          },
          "metadata": {},
          "execution_count": 32
        }
      ]
    },
    {
      "cell_type": "markdown",
      "source": [
        "##Errors in Tensors\n",
        "1. Tensors not right datatype- to get datatype from a tensor, can use `tensor.dtype`\n",
        "2. Tensors not right shape- to get shape from a tensor, can use `tensor.shape`\n",
        "3. Tensors not on the right device- to get device from tensor, can use `tensor.device`"
      ],
      "metadata": {
        "id": "fMFpbL57KH8r"
      }
    },
    {
      "cell_type": "code",
      "source": [
        "#create a tensor\n",
        "ran = torch.rand(3,4)\n",
        "print(ran)\n",
        "print(f\"DataType of Tensor: {ran.dtype}\")\n",
        "print(f\"Shape of Tensor: {ran.shape}\")\n",
        "print(f\"Device of Tensor: {ran.device}\")"
      ],
      "metadata": {
        "colab": {
          "base_uri": "https://localhost:8080/"
        },
        "id": "j8LQytx6LMam",
        "outputId": "9a9fcc05-654b-49ea-ff30-5213c82ff975"
      },
      "execution_count": 35,
      "outputs": [
        {
          "output_type": "stream",
          "name": "stdout",
          "text": [
            "tensor([[0.0676, 0.9250, 0.7932, 0.2945],\n",
            "        [0.2457, 0.8926, 0.2767, 0.7092],\n",
            "        [0.5137, 0.8006, 0.3050, 0.4020]])\n",
            "DataType of Tensor: torch.float32\n",
            "Shape of Tensor: torch.Size([3, 4])\n",
            "Device of Tensor: cpu\n"
          ]
        }
      ]
    },
    {
      "cell_type": "code",
      "source": [],
      "metadata": {
        "id": "seVaxjYaMBlt"
      },
      "execution_count": null,
      "outputs": []
    }
  ]
}